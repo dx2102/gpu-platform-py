{
 "cells": [
  {
   "cell_type": "code",
   "execution_count": 2,
   "metadata": {},
   "outputs": [],
   "source": [
    "# docker daemon manages containers\n",
    "# The daemon exposes a REST API\n",
    "# this API is then used by docker CLI, docker Python/Go SDK, etc\n",
    "\n",
    "import time\n",
    "import threading\n",
    "\n",
    "def spawn(func):\n",
    "    thread = threading.Thread(target=func)\n",
    "    thread.start()\n",
    "    return thread\n",
    "\n",
    "import docker\n",
    "client = docker.from_env()"
   ]
  },
  {
   "cell_type": "code",
   "execution_count": 3,
   "metadata": {},
   "outputs": [
    {
     "name": "stdout",
     "output_type": "stream",
     "text": [
      "True\n",
      "[]\n",
      "[<Container: 9d48362b48bb>]\n"
     ]
    }
   ],
   "source": [
    "print(client.ping())\n",
    "print(client.containers.list())\n",
    "client.containers.run(\"bfirsh/reticulate-splines\", detach=True)\n",
    "print(client.containers.list())"
   ]
  },
  {
   "cell_type": "code",
   "execution_count": 4,
   "metadata": {},
   "outputs": [
    {
     "name": "stdout",
     "output_type": "stream",
     "text": [
      "[]\n"
     ]
    }
   ],
   "source": [
    "def kill_all():\n",
    "    for container in client.containers.list():\n",
    "        container.kill()\n",
    "kill_all()\n",
    "time.sleep(0.1)\n",
    "print(client.containers.list())"
   ]
  },
  {
   "cell_type": "code",
   "execution_count": 7,
   "metadata": {},
   "outputs": [
    {
     "name": "stdout",
     "output_type": "stream",
     "text": [
      "{'status': 'create', 'id': '014413de81d3a7830be981ace0b8a7edc236405a0f6d9dba6428613d60cfd7db', 'from': 'bfirsh/reticulate-splines', 'Type': 'container', 'Action': 'create', 'Actor': {'ID': '014413de81d3a7830be981ace0b8a7edc236405a0f6d9dba6428613d60cfd7db', 'Attributes': {'image': 'bfirsh/reticulate-splines', 'name': 'priceless_benz'}}, 'scope': 'local', 'time': 1705501488, 'timeNano': 1705501488739856683}\n",
      "{'Type': 'network', 'Action': 'connect', 'Actor': {'ID': '75d500952ece1d1913a6bb68e2134cae056c1bfac5f4b7cd5516619e70aad0e0', 'Attributes': {'container': '014413de81d3a7830be981ace0b8a7edc236405a0f6d9dba6428613d60cfd7db', 'name': 'bridge', 'type': 'bridge'}}, 'scope': 'local', 'time': 1705501488, 'timeNano': 1705501488786102434}\n",
      "{'status': 'start', 'id': '014413de81d3a7830be981ace0b8a7edc236405a0f6d9dba6428613d60cfd7db', 'from': 'bfirsh/reticulate-splines', 'Type': 'container', 'Action': 'start', 'Actor': {'ID': '014413de81d3a7830be981ace0b8a7edc236405a0f6d9dba6428613d60cfd7db', 'Attributes': {'image': 'bfirsh/reticulate-splines', 'name': 'priceless_benz'}}, 'scope': 'local', 'time': 1705501488, 'timeNano': 1705501488980385201}\n",
      "{'status': 'kill', 'id': '014413de81d3a7830be981ace0b8a7edc236405a0f6d9dba6428613d60cfd7db', 'from': 'bfirsh/reticulate-splines', 'Type': 'container', 'Action': 'kill', 'Actor': {'ID': '014413de81d3a7830be981ace0b8a7edc236405a0f6d9dba6428613d60cfd7db', 'Attributes': {'image': 'bfirsh/reticulate-splines', 'name': 'priceless_benz', 'signal': '9'}}, 'scope': 'local', 'time': 1705501489, 'timeNano': 1705501489099012320}\n",
      "{'Type': 'network', 'Action': 'disconnect', 'Actor': {'ID': '75d500952ece1d1913a6bb68e2134cae056c1bfac5f4b7cd5516619e70aad0e0', 'Attributes': {'container': '014413de81d3a7830be981ace0b8a7edc236405a0f6d9dba6428613d60cfd7db', 'name': 'bridge', 'type': 'bridge'}}, 'scope': 'local', 'time': 1705501489, 'timeNano': 1705501489267733706}\n",
      "{'status': 'die', 'id': '014413de81d3a7830be981ace0b8a7edc236405a0f6d9dba6428613d60cfd7db', 'from': 'bfirsh/reticulate-splines', 'Type': 'container', 'Action': 'die', 'Actor': {'ID': '014413de81d3a7830be981ace0b8a7edc236405a0f6d9dba6428613d60cfd7db', 'Attributes': {'execDuration': '0', 'exitCode': '137', 'image': 'bfirsh/reticulate-splines', 'name': 'priceless_benz'}}, 'scope': 'local', 'time': 1705501489, 'timeNano': 1705501489286895501}\n"
     ]
    },
    {
     "ename": "AttributeError",
     "evalue": "'Thread' object has no attribute 'stop'",
     "output_type": "error",
     "traceback": [
      "\u001b[0;31m---------------------------------------------------------------------------\u001b[0m",
      "\u001b[0;31mAttributeError\u001b[0m                            Traceback (most recent call last)",
      "Cell \u001b[0;32mIn[7], line 14\u001b[0m\n\u001b[1;32m     11\u001b[0m cont\u001b[38;5;241m.\u001b[39mkill()\n\u001b[1;32m     13\u001b[0m \u001b[38;5;66;03m# stop the watch thread\u001b[39;00m\n\u001b[0;32m---> 14\u001b[0m \u001b[43mwatch\u001b[49m\u001b[38;5;241;43m.\u001b[39;49m\u001b[43mstop\u001b[49m()\n",
      "\u001b[0;31mAttributeError\u001b[0m: 'Thread' object has no attribute 'stop'"
     ]
    }
   ],
   "source": [
    "\n",
    "# besides actively query info, \n",
    "#   we can also track changes with websocket\n",
    "\n",
    "@spawn\n",
    "def watch():\n",
    "    for event in client.events(decode=True):\n",
    "        print(event)\n",
    "\n",
    "cont = client.containers.run(\"bfirsh/reticulate-splines\", detach=True)\n",
    "time.sleep(0.1)\n",
    "cont.kill()\n",
    "\n",
    "# stop the watch thread\n",
    "watch.stop()"
   ]
  },
  {
   "cell_type": "code",
   "execution_count": null,
   "metadata": {},
   "outputs": [],
   "source": []
  }
 ],
 "metadata": {
  "kernelspec": {
   "display_name": "Python 3",
   "language": "python",
   "name": "python3"
  },
  "language_info": {
   "codemirror_mode": {
    "name": "ipython",
    "version": 3
   },
   "file_extension": ".py",
   "mimetype": "text/x-python",
   "name": "python",
   "nbconvert_exporter": "python",
   "pygments_lexer": "ipython3",
   "version": "3.10.12"
  }
 },
 "nbformat": 4,
 "nbformat_minor": 2
}
