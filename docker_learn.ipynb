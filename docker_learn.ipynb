{
 "cells": [
  {
   "cell_type": "code",
   "execution_count": 2,
   "metadata": {},
   "outputs": [],
   "source": [
    "# docker daemon manages containers\n",
    "# The daemon exposes a REST API\n",
    "# this API is then used by docker CLI, docker Python/Go SDK, etc\n",
    "\n",
    "import time\n",
    "import threading\n",
    "\n",
    "def spawn(func):\n",
    "    thread = threading.Thread(target=func)\n",
    "    thread.start()\n",
    "    return thread\n",
    "\n",
    "import docker\n",
    "client = docker.from_env()\n",
    "client2 = docker.DockerClient(base_url='unix://var/run/docker.sock')"
   ]
  },
  {
   "cell_type": "code",
   "execution_count": 3,
   "metadata": {},
   "outputs": [
    {
     "name": "stdout",
     "output_type": "stream",
     "text": [
      "True\n",
      "[<Container: c16b0ff4a67b>]\n"
     ]
    },
    {
     "name": "stdout",
     "output_type": "stream",
     "text": [
      "[<Container: 3c44017d1718>, <Container: c16b0ff4a67b>]\n"
     ]
    }
   ],
   "source": [
    "print(client.ping())\n",
    "print(client.containers.list())\n",
    "client.containers.run(\"bfirsh/reticulate-splines\", detach=True)\n",
    "print(client.containers.list())"
   ]
  },
  {
   "cell_type": "code",
   "execution_count": 7,
   "metadata": {},
   "outputs": [
    {
     "name": "stdout",
     "output_type": "stream",
     "text": [
      "[]\n"
     ]
    }
   ],
   "source": [
    "def kill_all():\n",
    "    for container in client.containers.list(all=True):\n",
    "        container.kill()\n",
    "kill_all()\n",
    "time.sleep(0.1)\n",
    "print(client.containers.list())"
   ]
  },
  {
   "cell_type": "code",
   "execution_count": 5,
   "metadata": {},
   "outputs": [
    {
     "name": "stdout",
     "output_type": "stream",
     "text": [
      "{'status': 'create', 'id': '8f479d77d675e029a63616f09ce91a9814def1be7a42edf1fd464b4705984ffa', 'from': 'bfirsh/reticulate-splines', 'Type': 'container', 'Action': 'create', 'Actor': {'ID': '8f479d77d675e029a63616f09ce91a9814def1be7a42edf1fd464b4705984ffa', 'Attributes': {'image': 'bfirsh/reticulate-splines', 'name': 'zen_thompson'}}, 'scope': 'local', 'time': 1705568164, 'timeNano': 1705568164603740167}\n",
      "{'Type': 'network', 'Action': 'connect', 'Actor': {'ID': '75d500952ece1d1913a6bb68e2134cae056c1bfac5f4b7cd5516619e70aad0e0', 'Attributes': {'container': '8f479d77d675e029a63616f09ce91a9814def1be7a42edf1fd464b4705984ffa', 'name': 'bridge', 'type': 'bridge'}}, 'scope': 'local', 'time': 1705568164, 'timeNano': 1705568164653041943}\n"
     ]
    },
    {
     "name": "stdout",
     "output_type": "stream",
     "text": [
      "{'status': 'start', 'id': '8f479d77d675e029a63616f09ce91a9814def1be7a42edf1fd464b4705984ffa', 'from': 'bfirsh/reticulate-splines', 'Type': 'container', 'Action': 'start', 'Actor': {'ID': '8f479d77d675e029a63616f09ce91a9814def1be7a42edf1fd464b4705984ffa', 'Attributes': {'image': 'bfirsh/reticulate-splines', 'name': 'zen_thompson'}}, 'scope': 'local', 'time': 1705568164, 'timeNano': 1705568164863664423}\n",
      "{'status': 'kill', 'id': '8f479d77d675e029a63616f09ce91a9814def1be7a42edf1fd464b4705984ffa', 'from': 'bfirsh/reticulate-splines', 'Type': 'container', 'Action': 'kill', 'Actor': {'ID': '8f479d77d675e029a63616f09ce91a9814def1be7a42edf1fd464b4705984ffa', 'Attributes': {'image': 'bfirsh/reticulate-splines', 'name': 'zen_thompson', 'signal': '9'}}, 'scope': 'local', 'time': 1705568164, 'timeNano': 1705568164982225888}\n",
      "{'Type': 'network', 'Action': 'disconnect', 'Actor': {'ID': '75d500952ece1d1913a6bb68e2134cae056c1bfac5f4b7cd5516619e70aad0e0', 'Attributes': {'container': '8f479d77d675e029a63616f09ce91a9814def1be7a42edf1fd464b4705984ffa', 'name': 'bridge', 'type': 'bridge'}}, 'scope': 'local', 'time': 1705568165, 'timeNano': 1705568165092273853}\n"
     ]
    }
   ],
   "source": [
    "\n",
    "# besides actively query info, \n",
    "#   we can also track changes with websocket\n",
    "\n",
    "@spawn\n",
    "def watch():\n",
    "    global events\n",
    "    events = client.events(decode=True)\n",
    "    for event in events:\n",
    "        print(event)\n",
    "\n",
    "cont = client.containers.run(\"bfirsh/reticulate-splines\", detach=True)\n",
    "time.sleep(0.1)\n",
    "cont.kill()\n",
    "\n",
    "# stop the watch thread\n",
    "events.close()"
   ]
  },
  {
   "cell_type": "code",
   "execution_count": 8,
   "metadata": {},
   "outputs": [
    {
     "name": "stdout",
     "output_type": "stream",
     "text": [
      "\n"
     ]
    },
    {
     "data": {
      "text/plain": [
       "{'22/tcp': [{'HostIp': '0.0.0.0', 'HostPort': '32817'},\n",
       "  {'HostIp': '::', 'HostPort': '32817'}],\n",
       " '8888/tcp': [{'HostIp': '0.0.0.0', 'HostPort': '32816'},\n",
       "  {'HostIp': '::', 'HostPort': '32816'}]}"
      ]
     },
     "metadata": {},
     "output_type": "display_data"
    },
    {
     "name": "stdout",
     "output_type": "stream",
     "text": [
      "[<Container: 2d854a0072ad>]\n",
      "container not found\n",
      "\n"
     ]
    },
    {
     "data": {
      "text/plain": [
       "{'22/tcp': [{'HostIp': '0.0.0.0', 'HostPort': '32819'},\n",
       "  {'HostIp': '::', 'HostPort': '32819'}],\n",
       " '8888/tcp': [{'HostIp': '0.0.0.0', 'HostPort': '32818'},\n",
       "  {'HostIp': '::', 'HostPort': '32818'}]}"
      ]
     },
     "metadata": {},
     "output_type": "display_data"
    },
    {
     "data": {
      "text/plain": [
       "{'Id': 'b34f53c609ae4dc61f8ef6924a220b1cf2cf03778538c5b26cc49d115789b4d4',\n",
       " 'Created': '2024-01-18T09:06:53.698180909Z',\n",
       " 'Path': '/bin/sh',\n",
       " 'Args': ['-c',\n",
       "  '/usr/sbin/sshd -D  && jupyter notebook --ip=0.0.0.0 --port=8888 --allow-root'],\n",
       " 'State': {'Status': 'running',\n",
       "  'Running': True,\n",
       "  'Paused': False,\n",
       "  'Restarting': False,\n",
       "  'OOMKilled': False,\n",
       "  'Dead': False,\n",
       "  'Pid': 365651,\n",
       "  'ExitCode': 0,\n",
       "  'Error': '',\n",
       "  'StartedAt': '2024-01-18T09:06:54.053057267Z',\n",
       "  'FinishedAt': '0001-01-01T00:00:00Z'},\n",
       " 'Image': 'sha256:be74893fcdb8509f7b252fd8b628f58c5d1a07f24c59e927ddc348039f532292',\n",
       " 'ResolvConfPath': '/var/lib/docker/containers/b34f53c609ae4dc61f8ef6924a220b1cf2cf03778538c5b26cc49d115789b4d4/resolv.conf',\n",
       " 'HostnamePath': '/var/lib/docker/containers/b34f53c609ae4dc61f8ef6924a220b1cf2cf03778538c5b26cc49d115789b4d4/hostname',\n",
       " 'HostsPath': '/var/lib/docker/containers/b34f53c609ae4dc61f8ef6924a220b1cf2cf03778538c5b26cc49d115789b4d4/hosts',\n",
       " 'LogPath': '/var/lib/docker/containers/b34f53c609ae4dc61f8ef6924a220b1cf2cf03778538c5b26cc49d115789b4d4/b34f53c609ae4dc61f8ef6924a220b1cf2cf03778538c5b26cc49d115789b4d4-json.log',\n",
       " 'Name': '/my-python-env',\n",
       " 'RestartCount': 0,\n",
       " 'Driver': 'overlay2',\n",
       " 'Platform': 'linux',\n",
       " 'MountLabel': '',\n",
       " 'ProcessLabel': '',\n",
       " 'AppArmorProfile': 'docker-default',\n",
       " 'ExecIDs': None,\n",
       " 'HostConfig': {'Binds': None,\n",
       "  'ContainerIDFile': '',\n",
       "  'LogConfig': {'Type': 'json-file', 'Config': {}},\n",
       "  'NetworkMode': 'default',\n",
       "  'PortBindings': {'22/tcp': [{'HostIp': '', 'HostPort': '0'}],\n",
       "   '8888/tcp': [{'HostIp': '', 'HostPort': '0'}]},\n",
       "  'RestartPolicy': {'Name': '', 'MaximumRetryCount': 0},\n",
       "  'AutoRemove': False,\n",
       "  'VolumeDriver': '',\n",
       "  'VolumesFrom': None,\n",
       "  'ConsoleSize': [0, 0],\n",
       "  'CapAdd': None,\n",
       "  'CapDrop': None,\n",
       "  'CgroupnsMode': 'private',\n",
       "  'Dns': None,\n",
       "  'DnsOptions': None,\n",
       "  'DnsSearch': None,\n",
       "  'ExtraHosts': None,\n",
       "  'GroupAdd': None,\n",
       "  'IpcMode': 'private',\n",
       "  'Cgroup': '',\n",
       "  'Links': None,\n",
       "  'OomScoreAdj': 0,\n",
       "  'PidMode': '',\n",
       "  'Privileged': False,\n",
       "  'PublishAllPorts': False,\n",
       "  'ReadonlyRootfs': False,\n",
       "  'SecurityOpt': None,\n",
       "  'UTSMode': '',\n",
       "  'UsernsMode': '',\n",
       "  'ShmSize': 67108864,\n",
       "  'Runtime': 'runc',\n",
       "  'Isolation': '',\n",
       "  'CpuShares': 0,\n",
       "  'Memory': 0,\n",
       "  'NanoCpus': 0,\n",
       "  'CgroupParent': '',\n",
       "  'BlkioWeight': 0,\n",
       "  'BlkioWeightDevice': None,\n",
       "  'BlkioDeviceReadBps': None,\n",
       "  'BlkioDeviceWriteBps': None,\n",
       "  'BlkioDeviceReadIOps': None,\n",
       "  'BlkioDeviceWriteIOps': None,\n",
       "  'CpuPeriod': 0,\n",
       "  'CpuQuota': 0,\n",
       "  'CpuRealtimePeriod': 0,\n",
       "  'CpuRealtimeRuntime': 0,\n",
       "  'CpusetCpus': '',\n",
       "  'CpusetMems': '',\n",
       "  'Devices': None,\n",
       "  'DeviceCgroupRules': None,\n",
       "  'DeviceRequests': None,\n",
       "  'MemoryReservation': 0,\n",
       "  'MemorySwap': 0,\n",
       "  'MemorySwappiness': None,\n",
       "  'OomKillDisable': None,\n",
       "  'PidsLimit': None,\n",
       "  'Ulimits': None,\n",
       "  'CpuCount': 0,\n",
       "  'CpuPercent': 0,\n",
       "  'IOMaximumIOps': 0,\n",
       "  'IOMaximumBandwidth': 0,\n",
       "  'MaskedPaths': ['/proc/asound',\n",
       "   '/proc/acpi',\n",
       "   '/proc/kcore',\n",
       "   '/proc/keys',\n",
       "   '/proc/latency_stats',\n",
       "   '/proc/timer_list',\n",
       "   '/proc/timer_stats',\n",
       "   '/proc/sched_debug',\n",
       "   '/proc/scsi',\n",
       "   '/sys/firmware',\n",
       "   '/sys/devices/virtual/powercap'],\n",
       "  'ReadonlyPaths': ['/proc/bus',\n",
       "   '/proc/fs',\n",
       "   '/proc/irq',\n",
       "   '/proc/sys',\n",
       "   '/proc/sysrq-trigger']},\n",
       " 'GraphDriver': {'Data': {'LowerDir': '/var/lib/docker/overlay2/39f756ed300be10f3e0d81133fd18d52a61c64043672f105db859b6bf2abb30f-init/diff:/var/lib/docker/overlay2/4kje4xalrjggbc524dyrxmuof/diff:/var/lib/docker/overlay2/qw8hnpun1pcicgvol3bp9niax/diff:/var/lib/docker/overlay2/t3ep71dwdnw60dxo7d9y55fer/diff:/var/lib/docker/overlay2/0dsum5talrrcht94zjlt2wjot/diff:/var/lib/docker/overlay2/ha9c7sxz598jweodrt1m8sh71/diff:/var/lib/docker/overlay2/p98tbr1o0we27niwkic4gjyq8/diff:/var/lib/docker/overlay2/a97276f4643db28f0537faad823b56b9994cd2955c4dda73baf036325f073058/diff:/var/lib/docker/overlay2/46d09a7862dd78ad290dcf0b1c9568e562aea1adbf3aaacbd315b04ef2d6cad9/diff:/var/lib/docker/overlay2/e8720bcbf1f2a398a200f2fb01b69937997aea0030b3e1ce78d721c7b35c06e0/diff:/var/lib/docker/overlay2/f330170e3bf4dae0c5078d3dcc3a2bbc35e860fe0b90d58793a1261b560e216e/diff:/var/lib/docker/overlay2/23820f0321e29d6915a138a6837463a45e6b63e337cf74f4fec2681c0bf2ad4b/diff:/var/lib/docker/overlay2/1b7369f6e852703defde11e643a02e999a586feda4fd2c6a483c86132f0705fb/diff:/var/lib/docker/overlay2/6e647c774a04bdbb1ae378a1df7dc7d6fd416a30172a07a4807d8dc6af791c27/diff:/var/lib/docker/overlay2/df20309997dc4a90566b04d824afa38419bde8192d5b37128be9e70f9eb7a9f8/diff',\n",
       "   'MergedDir': '/var/lib/docker/overlay2/39f756ed300be10f3e0d81133fd18d52a61c64043672f105db859b6bf2abb30f/merged',\n",
       "   'UpperDir': '/var/lib/docker/overlay2/39f756ed300be10f3e0d81133fd18d52a61c64043672f105db859b6bf2abb30f/diff',\n",
       "   'WorkDir': '/var/lib/docker/overlay2/39f756ed300be10f3e0d81133fd18d52a61c64043672f105db859b6bf2abb30f/work'},\n",
       "  'Name': 'overlay2'},\n",
       " 'Mounts': [],\n",
       " 'Config': {'Hostname': 'b34f53c609ae',\n",
       "  'Domainname': '',\n",
       "  'User': '',\n",
       "  'AttachStdin': False,\n",
       "  'AttachStdout': False,\n",
       "  'AttachStderr': False,\n",
       "  'ExposedPorts': {'22/tcp': {}, '8888/tcp': {}},\n",
       "  'Tty': False,\n",
       "  'OpenStdin': False,\n",
       "  'StdinOnce': False,\n",
       "  'Env': ['PATH=/usr/local/bin:/usr/local/sbin:/usr/local/bin:/usr/sbin:/usr/bin:/sbin:/bin',\n",
       "   'LANG=C.UTF-8',\n",
       "   'GPG_KEY=A035C8C19219BA821ECEA86B64E628F8D684696D',\n",
       "   'PYTHON_VERSION=3.11.7',\n",
       "   'PYTHON_PIP_VERSION=23.2.1',\n",
       "   'PYTHON_SETUPTOOLS_VERSION=65.5.1',\n",
       "   'PYTHON_GET_PIP_URL=https://github.com/pypa/get-pip/raw/4cfa4081d27285bda1220a62a5ebf5b4bd749cdb/public/get-pip.py',\n",
       "   'PYTHON_GET_PIP_SHA256=9cc01665956d22b3bf057ae8287b035827bfd895da235bcea200ab3b811790b6'],\n",
       "  'Cmd': ['/bin/sh',\n",
       "   '-c',\n",
       "   '/usr/sbin/sshd -D  && jupyter notebook --ip=0.0.0.0 --port=8888 --allow-root'],\n",
       "  'Image': 'my-python-env',\n",
       "  'Volumes': None,\n",
       "  'WorkingDir': '',\n",
       "  'Entrypoint': None,\n",
       "  'OnBuild': None,\n",
       "  'Labels': {}},\n",
       " 'NetworkSettings': {'Bridge': '',\n",
       "  'SandboxID': '81134fe3c3c274e21c8c7030eeefd6650a002ca7b1a3f48d33df13b7eb9a0018',\n",
       "  'HairpinMode': False,\n",
       "  'LinkLocalIPv6Address': '',\n",
       "  'LinkLocalIPv6PrefixLen': 0,\n",
       "  'Ports': {'22/tcp': [{'HostIp': '0.0.0.0', 'HostPort': '32819'},\n",
       "    {'HostIp': '::', 'HostPort': '32819'}],\n",
       "   '8888/tcp': [{'HostIp': '0.0.0.0', 'HostPort': '32818'},\n",
       "    {'HostIp': '::', 'HostPort': '32818'}]},\n",
       "  'SandboxKey': '/var/run/docker/netns/81134fe3c3c2',\n",
       "  'SecondaryIPAddresses': None,\n",
       "  'SecondaryIPv6Addresses': None,\n",
       "  'EndpointID': '7ed03fb7ffcbf133381519bfffda35c5f9b88c93ad0dda254fb21f9b3eab4178',\n",
       "  'Gateway': '172.17.0.1',\n",
       "  'GlobalIPv6Address': '',\n",
       "  'GlobalIPv6PrefixLen': 0,\n",
       "  'IPAddress': '172.17.0.2',\n",
       "  'IPPrefixLen': 16,\n",
       "  'IPv6Gateway': '',\n",
       "  'MacAddress': '02:42:ac:11:00:02',\n",
       "  'Networks': {'bridge': {'IPAMConfig': None,\n",
       "    'Links': None,\n",
       "    'Aliases': None,\n",
       "    'NetworkID': '75d500952ece1d1913a6bb68e2134cae056c1bfac5f4b7cd5516619e70aad0e0',\n",
       "    'EndpointID': '7ed03fb7ffcbf133381519bfffda35c5f9b88c93ad0dda254fb21f9b3eab4178',\n",
       "    'Gateway': '172.17.0.1',\n",
       "    'IPAddress': '172.17.0.2',\n",
       "    'IPPrefixLen': 16,\n",
       "    'IPv6Gateway': '',\n",
       "    'GlobalIPv6Address': '',\n",
       "    'GlobalIPv6PrefixLen': 0,\n",
       "    'MacAddress': '02:42:ac:11:00:02',\n",
       "    'DriverOpts': None}}}}"
      ]
     },
     "metadata": {},
     "output_type": "display_data"
    },
    {
     "name": "stdout",
     "output_type": "stream",
     "text": [
      "[<Container: b34f53c609ae>]\n",
      "container not found\n"
     ]
    }
   ],
   "source": [
    "# docker api\n",
    "import time\n",
    "import docker\n",
    "daemon = docker.from_env()\n",
    "\n",
    "for container in daemon.containers.list(all=True):\n",
    "    container.remove(force=True)\n",
    "time.sleep(0.1)\n",
    "\n",
    "container = daemon.containers.run(\n",
    "    \"my-python-env\",\n",
    "    detach=True,\n",
    "    ports={\n",
    "        22: 0,\n",
    "        8888: 0,\n",
    "    },\n",
    "    name=\"my-python-env\",\n",
    ")\n",
    "time.sleep(0.5)\n",
    "\n",
    "# container simply stores the id and attrs\n",
    "# the real data query happens when we call the methods\n",
    "print(container.logs().decode())\n",
    "# refresh attrs with id\n",
    "container.reload()\n",
    "display(container.attrs['NetworkSettings']['Ports'])\n",
    "print(daemon.containers.list(all=True))\n",
    "\n",
    "# if we kill the container, reload will fail with 404 no such container\n",
    "container.remove(force=True)\n",
    "time.sleep(0.1)\n",
    "try:\n",
    "    container.reload()\n",
    "except docker.errors.NotFound:\n",
    "    print(\"container not found\")# docker api\n",
    "import time\n",
    "import docker\n",
    "daemon = docker.from_env()\n",
    "\n",
    "for container in daemon.containers.list(all=True):\n",
    "    container.remove(force=True)\n",
    "time.sleep(0.1)\n",
    "\n",
    "container = daemon.containers.run(\n",
    "    \"my-python-env\",\n",
    "    detach=True,\n",
    "    ports={\n",
    "        22: 0,\n",
    "        8888: 0,\n",
    "    },\n",
    "    name=\"my-python-env\",\n",
    ")\n",
    "time.sleep(0.5)\n",
    "\n",
    "# container simply stores the id and attrs\n",
    "# the real data query happens when we call the methods\n",
    "print(container.logs().decode())\n",
    "# refresh attrs with id\n",
    "container.reload()\n",
    "display(container.attrs['NetworkSettings']['Ports'])\n",
    "display(container.attrs)\n",
    "\n",
    "print(daemon.containers.list(all=True))\n",
    "\n",
    "# if we kill the container, reload will fail with 404 no such container\n",
    "container.remove(force=True)\n",
    "time.sleep(0.1)\n",
    "try:\n",
    "    container.reload()\n",
    "except docker.errors.NotFound:\n",
    "    print(\"container not found\")"
   ]
  }
 ],
 "metadata": {
  "kernelspec": {
   "display_name": "Python 3",
   "language": "python",
   "name": "python3"
  },
  "language_info": {
   "codemirror_mode": {
    "name": "ipython",
    "version": 3
   },
   "file_extension": ".py",
   "mimetype": "text/x-python",
   "name": "python",
   "nbconvert_exporter": "python",
   "pygments_lexer": "ipython3",
   "version": "3.10.12"
  }
 },
 "nbformat": 4,
 "nbformat_minor": 2
}
