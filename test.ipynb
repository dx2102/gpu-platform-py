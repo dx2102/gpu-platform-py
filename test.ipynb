{
 "cells": [
  {
   "cell_type": "code",
   "execution_count": 5,
   "metadata": {},
   "outputs": [
    {
     "name": "stdout",
     "output_type": "stream",
     "text": [
      "{'80/tcp': [{'HostIp': '0.0.0.0', 'HostPort': '32805'}, {'HostIp': '::', 'HostPort': '32805'}]}\n",
      "Nginx 容器已经在主机上的端口 32805 上运行。\n"
     ]
    }
   ],
   "source": [
    "import docker\n",
    "import time\n",
    "client = docker.from_env()\n",
    "\n",
    "ports = {'80/tcp': 0}\n",
    "container = client.containers.run('nginx', detach=True, ports=ports)\n",
    "time.sleep(1)\n",
    "container.reload()\n",
    "print(container.attrs['NetworkSettings']['Ports'])\n",
    "allocated_port = container.attrs['NetworkSettings']['Ports']['80/tcp'][0]['HostPort']\n",
    "print(f\"Nginx 容器已经在主机上的端口 {allocated_port} 上运行。\")"
   ]
  }
 ],
 "metadata": {
  "kernelspec": {
   "display_name": "Python 3",
   "language": "python",
   "name": "python3"
  },
  "language_info": {
   "codemirror_mode": {
    "name": "ipython",
    "version": 3
   },
   "file_extension": ".py",
   "mimetype": "text/x-python",
   "name": "python",
   "nbconvert_exporter": "python",
   "pygments_lexer": "ipython3",
   "version": "3.10.12"
  }
 },
 "nbformat": 4,
 "nbformat_minor": 2
}
