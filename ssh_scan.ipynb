{
 "cells": [
  {
   "cell_type": "code",
   "execution_count": 21,
   "metadata": {},
   "outputs": [],
   "source": [
    "import paramiko\n",
    "import socket\n",
    "import time\n",
    "from queue import Queue\n",
    "import threading\n",
    "\n",
    "hostname = 'frp-man.top'\n",
    "\n",
    "def spawn(func):\n",
    "    threading.Thread(target=func).start()\n",
    "    \n",
    "# sudo lsof -iTCP -sTCP:LISTEN\n"
   ]
  },
  {
   "cell_type": "code",
   "execution_count": 22,
   "metadata": {},
   "outputs": [],
   "source": [
    "def try_port(target_port):\n",
    "    client = paramiko.SSHClient()\n",
    "    client.set_missing_host_key_policy(paramiko.AutoAddPolicy())\n",
    "\n",
    "    try:\n",
    "        client.connect(\n",
    "            hostname='frp-man.top',\n",
    "            port=target_port,\n",
    "            username='root',\n",
    "            password='1234',\n",
    "        )\n",
    "        print(target_port, '-> Success')\n",
    "    except Exception as e:\n",
    "        if \"NoValidConnectionsError\" in repr(e):\n",
    "            print('', target_port, end=' ')\n",
    "        else:\n",
    "            print('\\n', target_port, '->', repr(e))\n",
    "    finally:\n",
    "        client.close()\n",
    "\n"
   ]
  },
  {
   "cell_type": "code",
   "execution_count": 23,
   "metadata": {},
   "outputs": [
    {
     "name": "stdout",
     "output_type": "stream",
     "text": [
      " 43400  43401  43402  43403  43405  43406  43407  43408  43409  43411  43413  43414  43404  43415  43416  43417  43418  43419  43420  43410  43421  43422  43423  43424  43425  43426  43427  43429  43430  43431  43432  43433  43434  43435  43436  43437  43438  43428  43439  43440  43441  43442  43443  43444  43445  43449  43450  43451  43452  43453  43454  43455  43456  43446  43457  43458  43448  43459  43460  43461  43462  43463  43464  43465  43466  43467  43468  43469  43470  43471  43472  43473  43474  43475  43476  43477  43478  43479  43480  43481  43482  43483  43412  43484  43487  43488  43489  43490  43491  43492  43493  43494  43495  43485  43496  43486  43497  43498  43499  43500  43501  43503  43504  43506  43508  43509  43510  43511  43502  43513  43514  43515  43505  43516  43517  43507  43518  43519  43520 "
     ]
    },
    {
     "ename": "KeyboardInterrupt",
     "evalue": "",
     "output_type": "error",
     "traceback": [
      "\u001b[0;31m---------------------------------------------------------------------------\u001b[0m",
      "\u001b[0;31mKeyboardInterrupt\u001b[0m                         Traceback (most recent call last)",
      "Cell \u001b[0;32mIn[23], line 9\u001b[0m\n\u001b[1;32m      6\u001b[0m \u001b[38;5;129m@spawn\u001b[39m\n\u001b[1;32m      7\u001b[0m \u001b[38;5;28;01mdef\u001b[39;00m \u001b[38;5;21m_\u001b[39m():\n\u001b[1;32m      8\u001b[0m     try_port(target_port)\n\u001b[0;32m----> 9\u001b[0m \u001b[43mtime\u001b[49m\u001b[38;5;241;43m.\u001b[39;49m\u001b[43msleep\u001b[49m\u001b[43m(\u001b[49m\u001b[38;5;241;43m0.1\u001b[39;49m\u001b[43m)\u001b[49m\n",
      "\u001b[0;31mKeyboardInterrupt\u001b[0m: "
     ]
    },
    {
     "name": "stdout",
     "output_type": "stream",
     "text": [
      " 43521  43512 "
     ]
    },
    {
     "name": "stderr",
     "output_type": "stream",
     "text": [
      "Exception (client): Error reading SSH protocol banner\n",
      "Traceback (most recent call last):\n",
      "  File \"/usr/local/lib/python3.10/dist-packages/paramiko/transport.py\", line 2327, in _check_banner\n",
      "    buf = self.packetizer.readline(timeout)\n",
      "  File \"/usr/local/lib/python3.10/dist-packages/paramiko/packet.py\", line 381, in readline\n",
      "    buf += self._read_timeout(timeout)\n",
      "  File \"/usr/local/lib/python3.10/dist-packages/paramiko/packet.py\", line 618, in _read_timeout\n",
      "    raise EOFError()\n",
      "EOFError\n",
      "\n",
      "During handling of the above exception, another exception occurred:\n",
      "\n",
      "Traceback (most recent call last):\n",
      "  File \"/usr/local/lib/python3.10/dist-packages/paramiko/transport.py\", line 2143, in run\n",
      "    self._check_banner()\n",
      "  File \"/usr/local/lib/python3.10/dist-packages/paramiko/transport.py\", line 2331, in _check_banner\n",
      "    raise SSHException(\n",
      "paramiko.ssh_exception.SSHException: Error reading SSH protocol banner\n",
      "\n"
     ]
    },
    {
     "name": "stdout",
     "output_type": "stream",
     "text": [
      "43447 -> SSHException('Error reading SSH protocol banner')\n"
     ]
    },
    {
     "name": "stderr",
     "output_type": "stream",
     "text": [
      "Exception (client): Error reading SSH protocol banner\n",
      "Traceback (most recent call last):\n",
      "  File \"/usr/local/lib/python3.10/dist-packages/paramiko/transport.py\", line 2327, in _check_banner\n",
      "    buf = self.packetizer.readline(timeout)\n",
      "  File \"/usr/local/lib/python3.10/dist-packages/paramiko/packet.py\", line 381, in readline\n",
      "    buf += self._read_timeout(timeout)\n",
      "  File \"/usr/local/lib/python3.10/dist-packages/paramiko/packet.py\", line 618, in _read_timeout\n",
      "    raise EOFError()\n",
      "EOFError\n",
      "\n",
      "During handling of the above exception, another exception occurred:\n",
      "\n",
      "Traceback (most recent call last):\n",
      "  File \"/usr/local/lib/python3.10/dist-packages/paramiko/transport.py\", line 2143, in run\n",
      "    self._check_banner()\n",
      "  File \"/usr/local/lib/python3.10/dist-packages/paramiko/transport.py\", line 2331, in _check_banner\n",
      "    raise SSHException(\n",
      "paramiko.ssh_exception.SSHException: Error reading SSH protocol banner\n",
      "\n"
     ]
    },
    {
     "name": "stdout",
     "output_type": "stream",
     "text": [
      "\n",
      " 43447 -> SSHException('Error reading SSH protocol banner')\n"
     ]
    }
   ],
   "source": [
    "\n",
    "# once we used a local port to start a connection, \n",
    "# we can't use it in two minutes since it is in the TIME_WAIT state\n",
    "# we will get a \"Address already in use\" error\n",
    "\n",
    "for target_port in range(43400, 50000):\n",
    "    @spawn\n",
    "    def _():\n",
    "        try_port(target_port)\n",
    "    time.sleep(0.1)\n",
    "    \n"
   ]
  }
 ],
 "metadata": {
  "kernelspec": {
   "display_name": "Python 3",
   "language": "python",
   "name": "python3"
  },
  "language_info": {
   "codemirror_mode": {
    "name": "ipython",
    "version": 3
   },
   "file_extension": ".py",
   "mimetype": "text/x-python",
   "name": "python",
   "nbconvert_exporter": "python",
   "pygments_lexer": "ipython3",
   "version": "3.10.12"
  }
 },
 "nbformat": 4,
 "nbformat_minor": 2
}
