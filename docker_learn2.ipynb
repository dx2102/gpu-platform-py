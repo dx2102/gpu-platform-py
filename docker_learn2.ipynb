{
 "cells": [
  {
   "cell_type": "code",
   "execution_count": 13,
   "metadata": {},
   "outputs": [
    {
     "name": "stdout",
     "output_type": "stream",
     "text": [
      "{'22/tcp': [{'HostIp': '0.0.0.0', 'HostPort': '32796'}, {'HostIp': '::', 'HostPort': '32796'}], '80/tcp': [{'HostIp': '0.0.0.0', 'HostPort': '32795'}, {'HostIp': '::', 'HostPort': '32795'}], '8888/tcp': [{'HostIp': '0.0.0.0', 'HostPort': '32794'}, {'HostIp': '::', 'HostPort': '32794'}]}\n",
      "968a326813aa 32796 32794\n",
      "{'22/tcp': [{'HostIp': '0.0.0.0', 'HostPort': '32799'}, {'HostIp': '::', 'HostPort': '32799'}], '80/tcp': [{'HostIp': '0.0.0.0', 'HostPort': '32798'}, {'HostIp': '::', 'HostPort': '32798'}], '8888/tcp': [{'HostIp': '0.0.0.0', 'HostPort': '32797'}, {'HostIp': '::', 'HostPort': '32797'}]}\n",
      "445f98ce181f 32799 32797\n"
     ]
    }
   ],
   "source": [
    "\n",
    "# Example of creating, removing, and viewing my-python-env containers\n",
    "# See container/Dockerfile for definition of my-python-env\n",
    "\n",
    "import threading\n",
    "import time\n",
    "import docker\n",
    "daemon = docker.from_env()\n",
    "\n",
    "for container in daemon.containers.list(all=True):\n",
    "    container.remove(force=True)\n",
    "\n",
    "def new_container():\n",
    "    container = daemon.containers.run(\n",
    "        \"my-python-env\",\n",
    "        detach=True,\n",
    "        ports={\n",
    "            # exposes container's ssh, jupyter, and http ports to the host\n",
    "            # 0 means we let docker choose a random available port on the host\n",
    "            22: 0,\n",
    "            8888: 0,\n",
    "            80: 0,\n",
    "        },\n",
    "        labels=[\"my-python-env\"],\n",
    "    )\n",
    "    return container\n",
    "\n",
    "def log_container(container):\n",
    "    # container.attrs will only be updated after reload()\n",
    "    # we will get empty dict if we don't reload\n",
    "    container.reload()\n",
    "    ports = container.attrs[\"NetworkSettings\"][\"Ports\"]\n",
    "    print(ports)\n",
    "    short_id = container.short_id\n",
    "    ssh_port = ports[\"22/tcp\"][0][\"HostPort\"]\n",
    "    jupyter_port = ports[\"8888/tcp\"][0][\"HostPort\"]\n",
    "    print(short_id, ssh_port, jupyter_port)\n",
    "\n",
    "log_container(new_container())\n",
    "log_container(new_container())"
   ]
  }
 ],
 "metadata": {
  "kernelspec": {
   "display_name": "Python 3",
   "language": "python",
   "name": "python3"
  },
  "language_info": {
   "codemirror_mode": {
    "name": "ipython",
    "version": 3
   },
   "file_extension": ".py",
   "mimetype": "text/x-python",
   "name": "python",
   "nbconvert_exporter": "python",
   "pygments_lexer": "ipython3",
   "version": "3.10.12"
  }
 },
 "nbformat": 4,
 "nbformat_minor": 2
}
